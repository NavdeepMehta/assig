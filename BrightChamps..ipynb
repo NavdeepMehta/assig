{
 "cells": [
  {
   "cell_type": "code",
   "execution_count": 461,
   "id": "3680d70c",
   "metadata": {},
   "outputs": [],
   "source": [
    "import pandas as pd\n",
    "import numpy as np\n",
    "import seaborn as sns\n",
    "import plotly.express as px\n",
    "import matplotlib.pyplot as plt"
   ]
  },
  {
   "cell_type": "code",
   "execution_count": 462,
   "id": "01df8810",
   "metadata": {},
   "outputs": [],
   "source": [
    "df = pd.read_csv('Downloads/Demo Cancellation Data - Data.csv')"
   ]
  },
  {
   "cell_type": "code",
   "execution_count": 463,
   "id": "eb17884c",
   "metadata": {},
   "outputs": [
    {
     "data": {
      "text/html": [
       "<div>\n",
       "<style scoped>\n",
       "    .dataframe tbody tr th:only-of-type {\n",
       "        vertical-align: middle;\n",
       "    }\n",
       "\n",
       "    .dataframe tbody tr th {\n",
       "        vertical-align: top;\n",
       "    }\n",
       "\n",
       "    .dataframe thead th {\n",
       "        text-align: right;\n",
       "    }\n",
       "</style>\n",
       "<table border=\"1\" class=\"dataframe\">\n",
       "  <thead>\n",
       "    <tr style=\"text-align: right;\">\n",
       "      <th></th>\n",
       "      <th>Request Date</th>\n",
       "      <th>Full Name</th>\n",
       "      <th>What is the reason for Demo Cancellation?</th>\n",
       "      <th>Date of Demo</th>\n",
       "      <th>Slot no</th>\n",
       "      <th>Unnamed: 5</th>\n",
       "      <th>Unnamed: 6</th>\n",
       "      <th>Unnamed: 7</th>\n",
       "      <th>Unnamed: 8</th>\n",
       "      <th>Unnamed: 9</th>\n",
       "      <th>Unnamed: 10</th>\n",
       "    </tr>\n",
       "  </thead>\n",
       "  <tbody>\n",
       "    <tr>\n",
       "      <th>0</th>\n",
       "      <td>13-05-2021 12:31</td>\n",
       "      <td>Shaikh Faisal</td>\n",
       "      <td>Emergency.</td>\n",
       "      <td>13-05-2021</td>\n",
       "      <td>14</td>\n",
       "      <td>NaN</td>\n",
       "      <td>NaN</td>\n",
       "      <td>NaN</td>\n",
       "      <td>NaN</td>\n",
       "      <td>NaN</td>\n",
       "      <td>NaN</td>\n",
       "    </tr>\n",
       "    <tr>\n",
       "      <th>1</th>\n",
       "      <td>13-05-2021 12:57</td>\n",
       "      <td>Jyoti Singh</td>\n",
       "      <td>Power failure</td>\n",
       "      <td>13-05-2021</td>\n",
       "      <td>11, 12, 13, 14</td>\n",
       "      <td>NaN</td>\n",
       "      <td>NaN</td>\n",
       "      <td>NaN</td>\n",
       "      <td>NaN</td>\n",
       "      <td>NaN</td>\n",
       "      <td>NaN</td>\n",
       "    </tr>\n",
       "    <tr>\n",
       "      <th>2</th>\n",
       "      <td>13-05-2021 13:25</td>\n",
       "      <td>Jyoti kusalapur</td>\n",
       "      <td>Sick , so have taken leave for entire day on M...</td>\n",
       "      <td>13-05-2021</td>\n",
       "      <td>11 , 12, 13, 17</td>\n",
       "      <td>NaN</td>\n",
       "      <td>NaN</td>\n",
       "      <td>NaN</td>\n",
       "      <td>NaN</td>\n",
       "      <td>NaN</td>\n",
       "      <td>NaN</td>\n",
       "    </tr>\n",
       "    <tr>\n",
       "      <th>3</th>\n",
       "      <td>14-05-2021 00:03</td>\n",
       "      <td>Nidhi Puthran</td>\n",
       "      <td>Appointment with orthodontist</td>\n",
       "      <td>14-05-2021</td>\n",
       "      <td>11</td>\n",
       "      <td>NaN</td>\n",
       "      <td>NaN</td>\n",
       "      <td>NaN</td>\n",
       "      <td>NaN</td>\n",
       "      <td>NaN</td>\n",
       "      <td>NaN</td>\n",
       "    </tr>\n",
       "    <tr>\n",
       "      <th>4</th>\n",
       "      <td>14-05-2021 12:03</td>\n",
       "      <td>Sasikala K</td>\n",
       "      <td>Health issues. Going to hospital</td>\n",
       "      <td>14-05-2021</td>\n",
       "      <td>2-3pm,3-4pm</td>\n",
       "      <td>NaN</td>\n",
       "      <td>NaN</td>\n",
       "      <td>NaN</td>\n",
       "      <td>NaN</td>\n",
       "      <td>NaN</td>\n",
       "      <td>NaN</td>\n",
       "    </tr>\n",
       "  </tbody>\n",
       "</table>\n",
       "</div>"
      ],
      "text/plain": [
       "       Request Date        Full Name  \\\n",
       "0  13-05-2021 12:31    Shaikh Faisal   \n",
       "1  13-05-2021 12:57      Jyoti Singh   \n",
       "2  13-05-2021 13:25  Jyoti kusalapur   \n",
       "3  14-05-2021 00:03    Nidhi Puthran   \n",
       "4  14-05-2021 12:03       Sasikala K   \n",
       "\n",
       "          What is the reason for Demo Cancellation?  Date of Demo  \\\n",
       "0                                         Emergency.   13-05-2021   \n",
       "1                                      Power failure   13-05-2021   \n",
       "2  Sick , so have taken leave for entire day on M...   13-05-2021   \n",
       "3                      Appointment with orthodontist   14-05-2021   \n",
       "4                  Health issues. Going to hospital    14-05-2021   \n",
       "\n",
       "           Slot no Unnamed: 5 Unnamed: 6 Unnamed: 7 Unnamed: 8 Unnamed: 9  \\\n",
       "0               14        NaN        NaN        NaN        NaN        NaN   \n",
       "1   11, 12, 13, 14        NaN        NaN        NaN        NaN        NaN   \n",
       "2  11 , 12, 13, 17        NaN        NaN        NaN        NaN        NaN   \n",
       "3               11        NaN        NaN        NaN        NaN        NaN   \n",
       "4      2-3pm,3-4pm        NaN        NaN        NaN        NaN        NaN   \n",
       "\n",
       "  Unnamed: 10  \n",
       "0         NaN  \n",
       "1         NaN  \n",
       "2         NaN  \n",
       "3         NaN  \n",
       "4         NaN  "
      ]
     },
     "execution_count": 463,
     "metadata": {},
     "output_type": "execute_result"
    }
   ],
   "source": [
    "df.head()"
   ]
  },
  {
   "cell_type": "code",
   "execution_count": 464,
   "id": "2b0b5837",
   "metadata": {},
   "outputs": [
    {
     "data": {
      "text/plain": [
       "(399, 11)"
      ]
     },
     "execution_count": 464,
     "metadata": {},
     "output_type": "execute_result"
    }
   ],
   "source": [
    "df.shape"
   ]
  },
  {
   "cell_type": "code",
   "execution_count": 465,
   "id": "17864405",
   "metadata": {},
   "outputs": [
    {
     "data": {
      "text/plain": [
       "4389"
      ]
     },
     "execution_count": 465,
     "metadata": {},
     "output_type": "execute_result"
    }
   ],
   "source": [
    "df.size"
   ]
  },
  {
   "cell_type": "code",
   "execution_count": 466,
   "id": "71235858",
   "metadata": {},
   "outputs": [
    {
     "name": "stdout",
     "output_type": "stream",
     "text": [
      "<class 'pandas.core.frame.DataFrame'>\n",
      "RangeIndex: 399 entries, 0 to 398\n",
      "Data columns (total 11 columns):\n",
      " #   Column                                      Non-Null Count  Dtype \n",
      "---  ------                                      --------------  ----- \n",
      " 0   Request Date                                399 non-null    object\n",
      " 1   Full Name                                   399 non-null    object\n",
      " 2   What is the reason for Demo Cancellation?   399 non-null    object\n",
      " 3   Date of Demo                                399 non-null    object\n",
      " 4   Slot no                                     399 non-null    object\n",
      " 5   Unnamed: 5                                  3 non-null      object\n",
      " 6   Unnamed: 6                                  3 non-null      object\n",
      " 7   Unnamed: 7                                  3 non-null      object\n",
      " 8   Unnamed: 8                                  3 non-null      object\n",
      " 9   Unnamed: 9                                  3 non-null      object\n",
      " 10  Unnamed: 10                                 3 non-null      object\n",
      "dtypes: object(11)\n",
      "memory usage: 34.4+ KB\n"
     ]
    }
   ],
   "source": [
    "df.info()"
   ]
  },
  {
   "cell_type": "code",
   "execution_count": 467,
   "id": "cff54a28",
   "metadata": {},
   "outputs": [
    {
     "data": {
      "text/html": [
       "<div>\n",
       "<style scoped>\n",
       "    .dataframe tbody tr th:only-of-type {\n",
       "        vertical-align: middle;\n",
       "    }\n",
       "\n",
       "    .dataframe tbody tr th {\n",
       "        vertical-align: top;\n",
       "    }\n",
       "\n",
       "    .dataframe thead th {\n",
       "        text-align: right;\n",
       "    }\n",
       "</style>\n",
       "<table border=\"1\" class=\"dataframe\">\n",
       "  <thead>\n",
       "    <tr style=\"text-align: right;\">\n",
       "      <th></th>\n",
       "      <th>Request Date</th>\n",
       "      <th>Full Name</th>\n",
       "      <th>What is the reason for Demo Cancellation?</th>\n",
       "      <th>Date of Demo</th>\n",
       "      <th>Slot no</th>\n",
       "      <th>Unnamed: 5</th>\n",
       "      <th>Unnamed: 6</th>\n",
       "      <th>Unnamed: 7</th>\n",
       "      <th>Unnamed: 8</th>\n",
       "      <th>Unnamed: 9</th>\n",
       "      <th>Unnamed: 10</th>\n",
       "    </tr>\n",
       "  </thead>\n",
       "  <tbody>\n",
       "    <tr>\n",
       "      <th>count</th>\n",
       "      <td>399</td>\n",
       "      <td>399</td>\n",
       "      <td>399</td>\n",
       "      <td>399</td>\n",
       "      <td>399</td>\n",
       "      <td>3</td>\n",
       "      <td>3</td>\n",
       "      <td>3</td>\n",
       "      <td>3</td>\n",
       "      <td>3</td>\n",
       "      <td>3</td>\n",
       "    </tr>\n",
       "    <tr>\n",
       "      <th>unique</th>\n",
       "      <td>386</td>\n",
       "      <td>217</td>\n",
       "      <td>334</td>\n",
       "      <td>28</td>\n",
       "      <td>235</td>\n",
       "      <td>3</td>\n",
       "      <td>3</td>\n",
       "      <td>3</td>\n",
       "      <td>3</td>\n",
       "      <td>3</td>\n",
       "      <td>3</td>\n",
       "    </tr>\n",
       "    <tr>\n",
       "      <th>top</th>\n",
       "      <td>01-06-2021 10:23</td>\n",
       "      <td>Atikha</td>\n",
       "      <td>Health issue</td>\n",
       "      <td>03-06-2021</td>\n",
       "      <td>11</td>\n",
       "      <td>29-05-2021 23:04</td>\n",
       "      <td>29-05-2021 23:04</td>\n",
       "      <td>29-05-2021 23:04</td>\n",
       "      <td>29-05-2021 23:04</td>\n",
       "      <td>29-05-2021 23:04</td>\n",
       "      <td>29-05-2021 23:04</td>\n",
       "    </tr>\n",
       "    <tr>\n",
       "      <th>freq</th>\n",
       "      <td>3</td>\n",
       "      <td>16</td>\n",
       "      <td>12</td>\n",
       "      <td>30</td>\n",
       "      <td>15</td>\n",
       "      <td>1</td>\n",
       "      <td>1</td>\n",
       "      <td>1</td>\n",
       "      <td>1</td>\n",
       "      <td>1</td>\n",
       "      <td>1</td>\n",
       "    </tr>\n",
       "  </tbody>\n",
       "</table>\n",
       "</div>"
      ],
      "text/plain": [
       "            Request Date Full Name What is the reason for Demo Cancellation?   \\\n",
       "count                399       399                                        399   \n",
       "unique               386       217                                        334   \n",
       "top     01-06-2021 10:23    Atikha                               Health issue   \n",
       "freq                   3        16                                         12   \n",
       "\n",
       "       Date of Demo Slot no        Unnamed: 5        Unnamed: 6  \\\n",
       "count           399     399                 3                 3   \n",
       "unique           28     235                 3                 3   \n",
       "top      03-06-2021      11  29-05-2021 23:04  29-05-2021 23:04   \n",
       "freq             30      15                 1                 1   \n",
       "\n",
       "              Unnamed: 7        Unnamed: 8        Unnamed: 9       Unnamed: 10  \n",
       "count                  3                 3                 3                 3  \n",
       "unique                 3                 3                 3                 3  \n",
       "top     29-05-2021 23:04  29-05-2021 23:04  29-05-2021 23:04  29-05-2021 23:04  \n",
       "freq                   1                 1                 1                 1  "
      ]
     },
     "execution_count": 467,
     "metadata": {},
     "output_type": "execute_result"
    }
   ],
   "source": [
    "df.describe()"
   ]
  },
  {
   "cell_type": "code",
   "execution_count": 468,
   "id": "7b81149c",
   "metadata": {},
   "outputs": [],
   "source": [
    "temp = pd.DataFrame(index=df.columns)\n",
    "temp['DataType'] = df.dtypes\n",
    "temp['Null_Counts']=df.isnull().sum()/len(df)*100\n",
    "temp['Unique_Counts'] = df.nunique()"
   ]
  },
  {
   "cell_type": "code",
   "execution_count": 469,
   "id": "65c76928",
   "metadata": {},
   "outputs": [
    {
     "data": {
      "text/html": [
       "<div>\n",
       "<style scoped>\n",
       "    .dataframe tbody tr th:only-of-type {\n",
       "        vertical-align: middle;\n",
       "    }\n",
       "\n",
       "    .dataframe tbody tr th {\n",
       "        vertical-align: top;\n",
       "    }\n",
       "\n",
       "    .dataframe thead th {\n",
       "        text-align: right;\n",
       "    }\n",
       "</style>\n",
       "<table border=\"1\" class=\"dataframe\">\n",
       "  <thead>\n",
       "    <tr style=\"text-align: right;\">\n",
       "      <th></th>\n",
       "      <th>DataType</th>\n",
       "      <th>Null_Counts</th>\n",
       "      <th>Unique_Counts</th>\n",
       "    </tr>\n",
       "  </thead>\n",
       "  <tbody>\n",
       "    <tr>\n",
       "      <th>Request Date</th>\n",
       "      <td>object</td>\n",
       "      <td>0.00000</td>\n",
       "      <td>386</td>\n",
       "    </tr>\n",
       "    <tr>\n",
       "      <th>Full Name</th>\n",
       "      <td>object</td>\n",
       "      <td>0.00000</td>\n",
       "      <td>217</td>\n",
       "    </tr>\n",
       "    <tr>\n",
       "      <th>What is the reason for Demo Cancellation?</th>\n",
       "      <td>object</td>\n",
       "      <td>0.00000</td>\n",
       "      <td>334</td>\n",
       "    </tr>\n",
       "    <tr>\n",
       "      <th>Date of Demo</th>\n",
       "      <td>object</td>\n",
       "      <td>0.00000</td>\n",
       "      <td>28</td>\n",
       "    </tr>\n",
       "    <tr>\n",
       "      <th>Slot no</th>\n",
       "      <td>object</td>\n",
       "      <td>0.00000</td>\n",
       "      <td>235</td>\n",
       "    </tr>\n",
       "    <tr>\n",
       "      <th>Unnamed: 5</th>\n",
       "      <td>object</td>\n",
       "      <td>99.24812</td>\n",
       "      <td>3</td>\n",
       "    </tr>\n",
       "    <tr>\n",
       "      <th>Unnamed: 6</th>\n",
       "      <td>object</td>\n",
       "      <td>99.24812</td>\n",
       "      <td>3</td>\n",
       "    </tr>\n",
       "    <tr>\n",
       "      <th>Unnamed: 7</th>\n",
       "      <td>object</td>\n",
       "      <td>99.24812</td>\n",
       "      <td>3</td>\n",
       "    </tr>\n",
       "    <tr>\n",
       "      <th>Unnamed: 8</th>\n",
       "      <td>object</td>\n",
       "      <td>99.24812</td>\n",
       "      <td>3</td>\n",
       "    </tr>\n",
       "    <tr>\n",
       "      <th>Unnamed: 9</th>\n",
       "      <td>object</td>\n",
       "      <td>99.24812</td>\n",
       "      <td>3</td>\n",
       "    </tr>\n",
       "    <tr>\n",
       "      <th>Unnamed: 10</th>\n",
       "      <td>object</td>\n",
       "      <td>99.24812</td>\n",
       "      <td>3</td>\n",
       "    </tr>\n",
       "  </tbody>\n",
       "</table>\n",
       "</div>"
      ],
      "text/plain": [
       "                                           DataType  Null_Counts  \\\n",
       "Request Date                                 object      0.00000   \n",
       "Full Name                                    object      0.00000   \n",
       "What is the reason for Demo Cancellation?    object      0.00000   \n",
       "Date of Demo                                 object      0.00000   \n",
       "Slot no                                      object      0.00000   \n",
       "Unnamed: 5                                   object     99.24812   \n",
       "Unnamed: 6                                   object     99.24812   \n",
       "Unnamed: 7                                   object     99.24812   \n",
       "Unnamed: 8                                   object     99.24812   \n",
       "Unnamed: 9                                   object     99.24812   \n",
       "Unnamed: 10                                  object     99.24812   \n",
       "\n",
       "                                            Unique_Counts  \n",
       "Request Date                                          386  \n",
       "Full Name                                             217  \n",
       "What is the reason for Demo Cancellation?             334  \n",
       "Date of Demo                                           28  \n",
       "Slot no                                               235  \n",
       "Unnamed: 5                                              3  \n",
       "Unnamed: 6                                              3  \n",
       "Unnamed: 7                                              3  \n",
       "Unnamed: 8                                              3  \n",
       "Unnamed: 9                                              3  \n",
       "Unnamed: 10                                             3  "
      ]
     },
     "execution_count": 469,
     "metadata": {},
     "output_type": "execute_result"
    }
   ],
   "source": [
    "temp"
   ]
  },
  {
   "cell_type": "code",
   "execution_count": 470,
   "id": "99d2d913",
   "metadata": {},
   "outputs": [],
   "source": [
    "df.drop(['Unnamed: 5', 'Unnamed: 6', 'Unnamed: 7', 'Unnamed: 8', 'Unnamed: 9','Unnamed: 10'],inplace = True, axis=1)"
   ]
  },
  {
   "cell_type": "code",
   "execution_count": 471,
   "id": "9b3bd753",
   "metadata": {},
   "outputs": [
    {
     "data": {
      "text/plain": [
       "Index(['Request Date', 'Full Name',\n",
       "       'What is the reason for Demo Cancellation? ', 'Date of Demo',\n",
       "       'Slot no'],\n",
       "      dtype='object')"
      ]
     },
     "execution_count": 471,
     "metadata": {},
     "output_type": "execute_result"
    }
   ],
   "source": [
    "df.columns"
   ]
  },
  {
   "cell_type": "code",
   "execution_count": 472,
   "id": "52d8fe5f",
   "metadata": {},
   "outputs": [],
   "source": [
    "df['Request Date']=pd.to_datetime(df['Request Date'], format = '%d-%m-%Y %H:%M')"
   ]
  },
  {
   "cell_type": "code",
   "execution_count": 473,
   "id": "8fbd80b1",
   "metadata": {},
   "outputs": [],
   "source": [
    "df['RequestDates'] = pd.to_datetime(df['Request Date']).dt.date\n",
    "df['Request Time'] = pd.to_datetime(df['Request Date']).dt.time"
   ]
  },
  {
   "cell_type": "code",
   "execution_count": 474,
   "id": "cfb91d19",
   "metadata": {},
   "outputs": [],
   "source": [
    "df['RequestDates']=pd.to_datetime(df['RequestDates'], format = '%Y-%m-%d')"
   ]
  },
  {
   "cell_type": "code",
   "execution_count": 475,
   "id": "c2f162d1",
   "metadata": {},
   "outputs": [],
   "source": [
    "df['Request Time']=pd.to_datetime(df['Request Time'], format = '%H:%M:%S')\n",
    "df['Request Time'] = pd.to_datetime(df['Request Time']).dt.strftime('%I:%M %p')"
   ]
  },
  {
   "cell_type": "code",
   "execution_count": 476,
   "id": "2fb311c8",
   "metadata": {},
   "outputs": [],
   "source": [
    "df['Date of Demo']=pd.to_datetime(df['Date of Demo'], format = '%d-%m-%Y')"
   ]
  },
  {
   "cell_type": "code",
   "execution_count": 477,
   "id": "4a3235e7",
   "metadata": {},
   "outputs": [
    {
     "data": {
      "text/plain": [
       "Request Date                                  datetime64[ns]\n",
       "Full Name                                             object\n",
       "What is the reason for Demo Cancellation?             object\n",
       "Date of Demo                                  datetime64[ns]\n",
       "Slot no                                               object\n",
       "RequestDates                                  datetime64[ns]\n",
       "Request Time                                          object\n",
       "dtype: object"
      ]
     },
     "execution_count": 477,
     "metadata": {},
     "output_type": "execute_result"
    }
   ],
   "source": [
    "df.dtypes"
   ]
  },
  {
   "cell_type": "code",
   "execution_count": 478,
   "id": "4a7949e0",
   "metadata": {},
   "outputs": [],
   "source": [
    "x=df['Full Name'].value_counts().reset_index()"
   ]
  },
  {
   "cell_type": "code",
   "execution_count": 479,
   "id": "636bb7a7",
   "metadata": {},
   "outputs": [],
   "source": [
    "x.columns=('Full Name', 'Total Count')"
   ]
  },
  {
   "cell_type": "code",
   "execution_count": 480,
   "id": "50f2a14f",
   "metadata": {},
   "outputs": [
    {
     "data": {
      "text/plain": [
       "(217, 2)"
      ]
     },
     "execution_count": 480,
     "metadata": {},
     "output_type": "execute_result"
    }
   ],
   "source": [
    "x.shape"
   ]
  },
  {
   "cell_type": "code",
   "execution_count": 481,
   "id": "be8b0d11",
   "metadata": {},
   "outputs": [],
   "source": [
    "lst=[]\n",
    "j=0\n",
    "for i in x['Total Count']:\n",
    "    if i>3:\n",
    "        lst.append(x['Full Name'][j])\n",
    "    else:\n",
    "        pass\n",
    "    j=j+1"
   ]
  },
  {
   "cell_type": "code",
   "execution_count": 482,
   "id": "63ad410b",
   "metadata": {},
   "outputs": [
    {
     "data": {
      "text/html": [
       "<div>\n",
       "<style scoped>\n",
       "    .dataframe tbody tr th:only-of-type {\n",
       "        vertical-align: middle;\n",
       "    }\n",
       "\n",
       "    .dataframe tbody tr th {\n",
       "        vertical-align: top;\n",
       "    }\n",
       "\n",
       "    .dataframe thead th {\n",
       "        text-align: right;\n",
       "    }\n",
       "</style>\n",
       "<table border=\"1\" class=\"dataframe\">\n",
       "  <thead>\n",
       "    <tr style=\"text-align: right;\">\n",
       "      <th></th>\n",
       "      <th>Request Date</th>\n",
       "      <th>Full Name</th>\n",
       "      <th>What is the reason for Demo Cancellation?</th>\n",
       "      <th>Date of Demo</th>\n",
       "      <th>Slot no</th>\n",
       "      <th>RequestDates</th>\n",
       "      <th>Request Time</th>\n",
       "    </tr>\n",
       "  </thead>\n",
       "  <tbody>\n",
       "    <tr>\n",
       "      <th>258</th>\n",
       "      <td>2021-05-30 12:13:00</td>\n",
       "      <td>Darshini Krishnamurthy</td>\n",
       "      <td>There is power cut in my place and I have lost...</td>\n",
       "      <td>2021-05-30</td>\n",
       "      <td>Slot 13 and slot 14</td>\n",
       "      <td>2021-05-30</td>\n",
       "      <td>12:13 PM</td>\n",
       "    </tr>\n",
       "    <tr>\n",
       "      <th>259</th>\n",
       "      <td>2021-05-30 12:24:00</td>\n",
       "      <td>Darshini Krishnamurthy</td>\n",
       "      <td>There is no power in my place and I had called...</td>\n",
       "      <td>2021-05-30</td>\n",
       "      <td>Slot:13, slot:14</td>\n",
       "      <td>2021-05-30</td>\n",
       "      <td>12:24 PM</td>\n",
       "    </tr>\n",
       "    <tr>\n",
       "      <th>310</th>\n",
       "      <td>2021-06-03 10:07:00</td>\n",
       "      <td>Darshini Krishnamurthy</td>\n",
       "      <td>Not well and have high fever</td>\n",
       "      <td>2021-06-03</td>\n",
       "      <td>11,12,13,14</td>\n",
       "      <td>2021-06-03</td>\n",
       "      <td>10:07 AM</td>\n",
       "    </tr>\n",
       "    <tr>\n",
       "      <th>317</th>\n",
       "      <td>2021-06-03 15:39:00</td>\n",
       "      <td>Darshini Krishnamurthy</td>\n",
       "      <td>Not well and have high fever</td>\n",
       "      <td>2021-06-03</td>\n",
       "      <td>11,12,13,14</td>\n",
       "      <td>2021-06-03</td>\n",
       "      <td>03:39 PM</td>\n",
       "    </tr>\n",
       "    <tr>\n",
       "      <th>340</th>\n",
       "      <td>2021-06-04 15:04:00</td>\n",
       "      <td>Darshini Krishnamurthy</td>\n",
       "      <td>Not well and have high fever</td>\n",
       "      <td>2021-06-03</td>\n",
       "      <td>11,12,13,14</td>\n",
       "      <td>2021-06-04</td>\n",
       "      <td>03:04 PM</td>\n",
       "    </tr>\n",
       "    <tr>\n",
       "      <th>344</th>\n",
       "      <td>2021-06-04 19:11:00</td>\n",
       "      <td>Darshini Krishnamurthy</td>\n",
       "      <td>Not well and have high fever</td>\n",
       "      <td>2021-06-03</td>\n",
       "      <td>11,12,13,14</td>\n",
       "      <td>2021-06-04</td>\n",
       "      <td>07:11 PM</td>\n",
       "    </tr>\n",
       "  </tbody>\n",
       "</table>\n",
       "</div>"
      ],
      "text/plain": [
       "           Request Date                Full Name  \\\n",
       "258 2021-05-30 12:13:00  Darshini Krishnamurthy    \n",
       "259 2021-05-30 12:24:00  Darshini Krishnamurthy    \n",
       "310 2021-06-03 10:07:00  Darshini Krishnamurthy    \n",
       "317 2021-06-03 15:39:00  Darshini Krishnamurthy    \n",
       "340 2021-06-04 15:04:00  Darshini Krishnamurthy    \n",
       "344 2021-06-04 19:11:00  Darshini Krishnamurthy    \n",
       "\n",
       "            What is the reason for Demo Cancellation?  Date of Demo  \\\n",
       "258  There is power cut in my place and I have lost...   2021-05-30   \n",
       "259  There is no power in my place and I had called...   2021-05-30   \n",
       "310                       Not well and have high fever   2021-06-03   \n",
       "317                       Not well and have high fever   2021-06-03   \n",
       "340                       Not well and have high fever   2021-06-03   \n",
       "344                       Not well and have high fever   2021-06-03   \n",
       "\n",
       "                 Slot no RequestDates Request Time  \n",
       "258  Slot 13 and slot 14   2021-05-30     12:13 PM  \n",
       "259     Slot:13, slot:14   2021-05-30     12:24 PM  \n",
       "310          11,12,13,14   2021-06-03     10:07 AM  \n",
       "317          11,12,13,14   2021-06-03     03:39 PM  \n",
       "340          11,12,13,14   2021-06-04     03:04 PM  \n",
       "344          11,12,13,14   2021-06-04     07:11 PM  "
      ]
     },
     "execution_count": 482,
     "metadata": {},
     "output_type": "execute_result"
    }
   ],
   "source": [
    "df[df['Full Name']==lst[3]]"
   ]
  },
  {
   "cell_type": "code",
   "execution_count": 483,
   "id": "11869e02",
   "metadata": {},
   "outputs": [],
   "source": [
    "data = {'Full Name': ['Atikha', 'Jayalakshmi S', 'Arpita Bhagat', 'Darshini Krishnamurthy ', 'Amrutha A'],\n",
    "        'Penalty from Emergency Leave': [0,600,200,100,100],\n",
    "        \"Penalty from Informed Leave\": [450,100,50,0,0]}\n",
    "\n",
    "fine = pd.DataFrame(data)"
   ]
  },
  {
   "cell_type": "code",
   "execution_count": 484,
   "id": "0c1aae1b",
   "metadata": {},
   "outputs": [],
   "source": [
    "fine['Total Penatly'] = fine['Penalty from Emergency Leave'] + fine['Penalty from Informed Leave']"
   ]
  },
  {
   "cell_type": "code",
   "execution_count": 485,
   "id": "a7cc15d8",
   "metadata": {},
   "outputs": [],
   "source": [
    "k=5\n",
    "lst1=[]\n",
    "lst2=[]\n",
    "for i in x['Full Name']:\n",
    "    if i not in lst:\n",
    "        lst1.append(i)\n",
    "        lst2.append(0)\n",
    "    else:\n",
    "        pass"
   ]
  },
  {
   "cell_type": "code",
   "execution_count": 486,
   "id": "df054880",
   "metadata": {},
   "outputs": [],
   "source": [
    "data = {'Full Name': lst1,\n",
    "        'Penalty from Emergency Leave': lst2,\n",
    "        \"Penalty from Informed Leave\": lst2,\n",
    "        \"Total Penatly\":lst2}\n",
    "\n",
    "fine1 = pd.DataFrame(data)"
   ]
  },
  {
   "cell_type": "code",
   "execution_count": 487,
   "id": "d8d0ae35",
   "metadata": {
    "scrolled": false
   },
   "outputs": [
    {
     "data": {
      "text/html": [
       "<div>\n",
       "<style scoped>\n",
       "    .dataframe tbody tr th:only-of-type {\n",
       "        vertical-align: middle;\n",
       "    }\n",
       "\n",
       "    .dataframe tbody tr th {\n",
       "        vertical-align: top;\n",
       "    }\n",
       "\n",
       "    .dataframe thead th {\n",
       "        text-align: right;\n",
       "    }\n",
       "</style>\n",
       "<table border=\"1\" class=\"dataframe\">\n",
       "  <thead>\n",
       "    <tr style=\"text-align: right;\">\n",
       "      <th></th>\n",
       "      <th>Full Name</th>\n",
       "      <th>Penalty from Emergency Leave</th>\n",
       "      <th>Penalty from Informed Leave</th>\n",
       "      <th>Total Penatly</th>\n",
       "    </tr>\n",
       "  </thead>\n",
       "  <tbody>\n",
       "    <tr>\n",
       "      <th>0</th>\n",
       "      <td>Atikha</td>\n",
       "      <td>0</td>\n",
       "      <td>450</td>\n",
       "      <td>450</td>\n",
       "    </tr>\n",
       "    <tr>\n",
       "      <th>1</th>\n",
       "      <td>Jayalakshmi S</td>\n",
       "      <td>600</td>\n",
       "      <td>100</td>\n",
       "      <td>700</td>\n",
       "    </tr>\n",
       "    <tr>\n",
       "      <th>2</th>\n",
       "      <td>Arpita Bhagat</td>\n",
       "      <td>200</td>\n",
       "      <td>50</td>\n",
       "      <td>250</td>\n",
       "    </tr>\n",
       "    <tr>\n",
       "      <th>3</th>\n",
       "      <td>Darshini Krishnamurthy</td>\n",
       "      <td>100</td>\n",
       "      <td>0</td>\n",
       "      <td>100</td>\n",
       "    </tr>\n",
       "    <tr>\n",
       "      <th>4</th>\n",
       "      <td>Amrutha A</td>\n",
       "      <td>100</td>\n",
       "      <td>0</td>\n",
       "      <td>100</td>\n",
       "    </tr>\n",
       "  </tbody>\n",
       "</table>\n",
       "</div>"
      ],
      "text/plain": [
       "                 Full Name  Penalty from Emergency Leave  \\\n",
       "0                   Atikha                             0   \n",
       "1            Jayalakshmi S                           600   \n",
       "2            Arpita Bhagat                           200   \n",
       "3  Darshini Krishnamurthy                            100   \n",
       "4                Amrutha A                           100   \n",
       "\n",
       "   Penalty from Informed Leave  Total Penatly  \n",
       "0                          450            450  \n",
       "1                          100            700  \n",
       "2                           50            250  \n",
       "3                            0            100  \n",
       "4                            0            100  "
      ]
     },
     "execution_count": 487,
     "metadata": {},
     "output_type": "execute_result"
    }
   ],
   "source": [
    "fine"
   ]
  },
  {
   "cell_type": "code",
   "execution_count": 488,
   "id": "84f5acd2",
   "metadata": {},
   "outputs": [
    {
     "data": {
      "text/html": [
       "<div>\n",
       "<style scoped>\n",
       "    .dataframe tbody tr th:only-of-type {\n",
       "        vertical-align: middle;\n",
       "    }\n",
       "\n",
       "    .dataframe tbody tr th {\n",
       "        vertical-align: top;\n",
       "    }\n",
       "\n",
       "    .dataframe thead th {\n",
       "        text-align: right;\n",
       "    }\n",
       "</style>\n",
       "<table border=\"1\" class=\"dataframe\">\n",
       "  <thead>\n",
       "    <tr style=\"text-align: right;\">\n",
       "      <th></th>\n",
       "      <th>Full Name</th>\n",
       "      <th>Penalty from Emergency Leave</th>\n",
       "      <th>Penalty from Informed Leave</th>\n",
       "      <th>Total Penatly</th>\n",
       "    </tr>\n",
       "  </thead>\n",
       "  <tbody>\n",
       "    <tr>\n",
       "      <th>0</th>\n",
       "      <td>Susan Joj</td>\n",
       "      <td>0</td>\n",
       "      <td>0</td>\n",
       "      <td>0</td>\n",
       "    </tr>\n",
       "    <tr>\n",
       "      <th>1</th>\n",
       "      <td>Deepak M C</td>\n",
       "      <td>0</td>\n",
       "      <td>0</td>\n",
       "      <td>0</td>\n",
       "    </tr>\n",
       "    <tr>\n",
       "      <th>2</th>\n",
       "      <td>Lubna Tasleem</td>\n",
       "      <td>0</td>\n",
       "      <td>0</td>\n",
       "      <td>0</td>\n",
       "    </tr>\n",
       "    <tr>\n",
       "      <th>3</th>\n",
       "      <td>Aruna P</td>\n",
       "      <td>0</td>\n",
       "      <td>0</td>\n",
       "      <td>0</td>\n",
       "    </tr>\n",
       "    <tr>\n",
       "      <th>4</th>\n",
       "      <td>Malvika Dixit</td>\n",
       "      <td>0</td>\n",
       "      <td>0</td>\n",
       "      <td>0</td>\n",
       "    </tr>\n",
       "    <tr>\n",
       "      <th>...</th>\n",
       "      <td>...</td>\n",
       "      <td>...</td>\n",
       "      <td>...</td>\n",
       "      <td>...</td>\n",
       "    </tr>\n",
       "    <tr>\n",
       "      <th>196</th>\n",
       "      <td>Allwin</td>\n",
       "      <td>0</td>\n",
       "      <td>0</td>\n",
       "      <td>0</td>\n",
       "    </tr>\n",
       "    <tr>\n",
       "      <th>197</th>\n",
       "      <td>Mansha Miglani</td>\n",
       "      <td>0</td>\n",
       "      <td>0</td>\n",
       "      <td>0</td>\n",
       "    </tr>\n",
       "    <tr>\n",
       "      <th>198</th>\n",
       "      <td>Hemavathik</td>\n",
       "      <td>0</td>\n",
       "      <td>0</td>\n",
       "      <td>0</td>\n",
       "    </tr>\n",
       "    <tr>\n",
       "      <th>199</th>\n",
       "      <td>gayatri deshmukh</td>\n",
       "      <td>0</td>\n",
       "      <td>0</td>\n",
       "      <td>0</td>\n",
       "    </tr>\n",
       "    <tr>\n",
       "      <th>200</th>\n",
       "      <td>Ashwini S Hanji</td>\n",
       "      <td>0</td>\n",
       "      <td>0</td>\n",
       "      <td>0</td>\n",
       "    </tr>\n",
       "  </tbody>\n",
       "</table>\n",
       "<p>201 rows × 4 columns</p>\n",
       "</div>"
      ],
      "text/plain": [
       "            Full Name  Penalty from Emergency Leave  \\\n",
       "0           Susan Joj                             0   \n",
       "1          Deepak M C                             0   \n",
       "2       Lubna Tasleem                             0   \n",
       "3             Aruna P                             0   \n",
       "4       Malvika Dixit                             0   \n",
       "..                ...                           ...   \n",
       "196            Allwin                             0   \n",
       "197    Mansha Miglani                             0   \n",
       "198        Hemavathik                             0   \n",
       "199  gayatri deshmukh                             0   \n",
       "200   Ashwini S Hanji                             0   \n",
       "\n",
       "     Penalty from Informed Leave  Total Penatly  \n",
       "0                              0              0  \n",
       "1                              0              0  \n",
       "2                              0              0  \n",
       "3                              0              0  \n",
       "4                              0              0  \n",
       "..                           ...            ...  \n",
       "196                            0              0  \n",
       "197                            0              0  \n",
       "198                            0              0  \n",
       "199                            0              0  \n",
       "200                            0              0  \n",
       "\n",
       "[201 rows x 4 columns]"
      ]
     },
     "execution_count": 488,
     "metadata": {},
     "output_type": "execute_result"
    }
   ],
   "source": [
    "fine1"
   ]
  },
  {
   "cell_type": "code",
   "execution_count": 489,
   "id": "2053a305",
   "metadata": {},
   "outputs": [],
   "source": [
    "fine=pd.concat([fine,fine1]).reset_index()"
   ]
  },
  {
   "cell_type": "code",
   "execution_count": 490,
   "id": "04cfb497",
   "metadata": {},
   "outputs": [],
   "source": [
    "fine.drop('index',inplace=True,axis=1)"
   ]
  },
  {
   "cell_type": "code",
   "execution_count": 492,
   "id": "72498576",
   "metadata": {},
   "outputs": [],
   "source": [
    "fine.to_csv(\"fine.csv\",index=False)"
   ]
  },
  {
   "cell_type": "code",
   "execution_count": null,
   "id": "831f7fdf",
   "metadata": {},
   "outputs": [],
   "source": []
  }
 ],
 "metadata": {
  "kernelspec": {
   "display_name": "Python 3",
   "language": "python",
   "name": "python3"
  },
  "language_info": {
   "codemirror_mode": {
    "name": "ipython",
    "version": 3
   },
   "file_extension": ".py",
   "mimetype": "text/x-python",
   "name": "python",
   "nbconvert_exporter": "python",
   "pygments_lexer": "ipython3",
   "version": "3.8.8"
  }
 },
 "nbformat": 4,
 "nbformat_minor": 5
}
